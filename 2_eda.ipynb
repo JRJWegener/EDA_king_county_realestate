{
 "cells": [
  {
   "attachments": {},
   "cell_type": "markdown",
   "metadata": {},
   "source": [
    "# Exploratory Data Analysis: King County (Washington) real estate sales May 2014-2015"
   ]
  },
  {
   "attachments": {},
   "cell_type": "markdown",
   "metadata": {},
   "source": [
    "## List of features in the data set\n",
    "<details>\n",
    "    <summary>Features</summary>\n",
    "\n",
    "\n",
    "| column name  \t|  description          |\n",
    "|---\t        |---\t                |\n",
    "| date  \t    | date of the sale  \t|\n",
    "| price         | prediction target   \t| \n",
    "| house_id  \t| unique identifier of the house  \t|\n",
    "| id          \t| unique identifier of the sale   \t|\n",
    "| bedrooms  \t| number of bedrooms  \t|\n",
    "| bathrooms  \t| number of bathrooms  \t|\n",
    "| sqft_living   | footage of the home                    \t|\n",
    "| sqft_lot          \t| footage of the lot                    \t|\n",
    "| floors          \t| floors (levels) in house                    \t|\n",
    "| waterfront          \t| does the house have a view to a waterfront                    \t|\n",
    "| view          \t| grading of the view outside the house               \t|\n",
    "| condition          \t| overall condition of the home                    \t|\n",
    "| grade          \t| overall grade given to the housing unit, based on King County grading system                    \t|\n",
    "| sqft_above          \t| square footage of house apart from basement                    \t|\n",
    "| sqft_basement          \t| square footage of the basement                    \t|\n",
    "| yr_built          \t| Built Year                    \t|\n",
    "| yr_renovated          \t| Year when house was renovated, 0 means no renovation                     \t|\n",
    "| zipcode          \t|  zipcode of the house                   \t|\n",
    "| lat          \t| Latitude coordinate                    \t|\n",
    "| long          \t| Longitude coordinate                    \t|\n",
    "| sqft_living15          \t| The square footage of interior housing living space for the nearest 15 neighbors                    \t|\n",
    "| sqft_lot15          \t| The square footage of the land lots of the nearest 15 neighbors                    \t|\n",
    "\n",
    "</details>"
   ]
  },
  {
   "attachments": {},
   "cell_type": "markdown",
   "metadata": {},
   "source": [
    "## Stakeholder\n",
    "The target of our analysis is Timothy Stevens: a seller who owns expensive houses in the centre (Seattle). He needs to get rid of them fast and is interested in the best timing for selling within a year. He is open for renovation when profits rise"
   ]
  },
  {
   "attachments": {},
   "cell_type": "markdown",
   "metadata": {},
   "source": [
    "## Data Analysis"
   ]
  },
  {
   "attachments": {},
   "cell_type": "markdown",
   "metadata": {},
   "source": [
    "#### import statements and setting options"
   ]
  },
  {
   "cell_type": "code",
   "execution_count": null,
   "metadata": {},
   "outputs": [],
   "source": [
    "import pandas as pd\n",
    "import numpy as np\n",
    "import matplotlib.pyplot as plt\n",
    "import seaborn as sns\n",
    "import plotly.express as px\n",
    "import plotly.graph_objects as go\n",
    "\n",
    "#telling pandas to always show all columns\n",
    "pd.set_option('display.max_columns', None)\n"
   ]
  },
  {
   "cell_type": "code",
   "execution_count": null,
   "metadata": {},
   "outputs": [],
   "source": [
    "#importing dataframe from pickle:\n",
    "df = pd.read_pickle(\"data/dataframe_housesales.pkl\")"
   ]
  },
  {
   "attachments": {},
   "cell_type": "markdown",
   "metadata": {},
   "source": [
    "### First look at the data"
   ]
  },
  {
   "attachments": {},
   "cell_type": "markdown",
   "metadata": {},
   "source": [
    "##### correlation matrix for quick overview"
   ]
  },
  {
   "cell_type": "code",
   "execution_count": null,
   "metadata": {},
   "outputs": [],
   "source": [
    "# @hidden_cell\n",
    "# Compute the correlation matrix\n",
    "corr = df.corr()\n",
    "\n",
    "# Generate a mask for the upper triangle\n",
    "mask = np.triu(np.ones_like(corr, dtype=bool))\n",
    "\n",
    "# Set up the matplotlib figure\n",
    "f, ax = plt.subplots(figsize=(11, 9))\n",
    "\n",
    "# Generate a custom diverging colormap\n",
    "cmap = sns.diverging_palette(230, 20, as_cmap=True)\n",
    "\n",
    "# Draw the heatmap with the mask and correct aspect ratio\n",
    "sns.heatmap(corr, mask=mask, cmap=cmap, vmax=.3, center=0,\n",
    "            square=True, linewidths=.5, cbar_kws={\"shrink\": .5})"
   ]
  },
  {
   "attachments": {},
   "cell_type": "markdown",
   "metadata": {},
   "source": [
    "findings: correlation between price and size, number of bathrooms/bedrooms, view and grading. Also slight correlation between latitude and price? the further up the more expensive maybe? no correlation between price and building year or renovation year"
   ]
  },
  {
   "attachments": {},
   "cell_type": "markdown",
   "metadata": {},
   "source": [
    "#### first look at distribution of sales over the time period"
   ]
  },
  {
   "cell_type": "code",
   "execution_count": null,
   "metadata": {},
   "outputs": [],
   "source": [
    "# @hidden_cell\n",
    "#histogram of the sales over time\n",
    "fig = px.histogram(df, x=\"date\", nbins=58, title= \"histogram of the sales over time\")\n",
    "fig.show()"
   ]
  },
  {
   "attachments": {},
   "cell_type": "markdown",
   "metadata": {},
   "source": [
    "hypothesis: slump of sales between end of december (christmas holidays) and february, also at the end of november (thanksgiving).\n",
    "Why the slump in april 2014 and may 2015? maybe because of the data gathering method (ie self reporting) at the end of the date range?"
   ]
  },
  {
   "attachments": {},
   "cell_type": "markdown",
   "metadata": {},
   "source": [
    "#### distribution of the years the houses were built in"
   ]
  },
  {
   "cell_type": "code",
   "execution_count": null,
   "metadata": {},
   "outputs": [],
   "source": [
    "# @hidden_cell\n",
    "fig = px.histogram(df, x=\"yr_built\", title=\"histogram of the construction years\")\n",
    "fig.show()"
   ]
  },
  {
   "attachments": {},
   "cell_type": "markdown",
   "metadata": {},
   "source": [
    "observation: slumps during economic crisis (great depression in 1930s, oil crisis 70s, bank crisis 2008, etc)"
   ]
  },
  {
   "attachments": {},
   "cell_type": "markdown",
   "metadata": {},
   "source": [
    "#### plotting prices against the year the house was built in"
   ]
  },
  {
   "cell_type": "code",
   "execution_count": null,
   "metadata": {},
   "outputs": [],
   "source": [
    "# @hidden_cell\n",
    "fig = px.scatter(x=df[\"yr_built\"], y=df[\"price\"], title=\"scatterplot: price versus the construction year\", labels={\"x\":\"construction year\", \"y\":\"price in $\"})\n",
    "fig.show()"
   ]
  },
  {
   "attachments": {},
   "cell_type": "markdown",
   "metadata": {},
   "source": [
    "slight price increase in newer buildings but no clear trend, lots of outliers?"
   ]
  },
  {
   "attachments": {},
   "cell_type": "markdown",
   "metadata": {},
   "source": [
    "### houses that were sold multiple times in timeframe"
   ]
  },
  {
   "cell_type": "code",
   "execution_count": null,
   "metadata": {},
   "outputs": [],
   "source": [
    "# creating a list of house ids that show up multiple times in datafram\n",
    "duplicate_id= df[df.duplicated(subset=[\"house_id\"])][\"house_id\"].tolist()"
   ]
  },
  {
   "cell_type": "code",
   "execution_count": null,
   "metadata": {},
   "outputs": [],
   "source": [
    "# create dataframe of the sales of these duplicate house id's\n",
    "df_duplicate = df[df[\"house_id\"].isin(duplicate_id)]\n",
    "#df_duplicate.sort_values(by=[\"house_id\", \"yr_renovated\"], ascending=False)"
   ]
  },
  {
   "attachments": {},
   "cell_type": "markdown",
   "metadata": {},
   "source": [
    "lets see if there are houses which where renovated between the sales in the dataset"
   ]
  },
  {
   "cell_type": "code",
   "execution_count": null,
   "metadata": {},
   "outputs": [],
   "source": [
    "#check for unique values in the year of renovation\n",
    "df_duplicate[\"yr_renovated\"].nunique()\n"
   ]
  },
  {
   "attachments": {},
   "cell_type": "markdown",
   "metadata": {},
   "source": [
    "only 5 unique values in the column of the renovation year, thats not much"
   ]
  },
  {
   "cell_type": "code",
   "execution_count": null,
   "metadata": {},
   "outputs": [],
   "source": [
    "# create a dataframe in which the year of renovation differs between the rows with the same house id\n",
    "# drop all entries in which both the housing id and the renovation year is the same in both rows\n",
    "df_drop = df_duplicate.drop_duplicates(subset = ['house_id', 'yr_renovated'])\n",
    "duplicate_id2= df_drop[df_drop.duplicated(subset=[\"house_id\"])][\"house_id\"].tolist()\n",
    "\n",
    "#create a dataframe in which only the entries with different renovation years is inside\n",
    "duplicate_id2= df_drop[df_drop.duplicated(subset=[\"house_id\"])][\"house_id\"].tolist()\n",
    "df_drop_dup = df_drop[df_drop[\"house_id\"].isin(duplicate_id2)]\n",
    "df_drop_dup\n"
   ]
  },
  {
   "attachments": {},
   "cell_type": "markdown",
   "metadata": {},
   "source": [
    "insight: no houses were renovated between two sales in the dataset"
   ]
  },
  {
   "attachments": {},
   "cell_type": "markdown",
   "metadata": {},
   "source": [
    "### create subselection for further analysis based on location and price range"
   ]
  },
  {
   "attachments": {},
   "cell_type": "markdown",
   "metadata": {},
   "source": [
    "#### check the distribution of the houses on a geoplot and plot our subselection of data"
   ]
  },
  {
   "cell_type": "code",
   "execution_count": null,
   "metadata": {},
   "outputs": [],
   "source": [
    "#zip codes of Seattle proper\n",
    "zip_seattle = [98101, 98102, 98103, 98104, 98105, 98106, 98107, 98108, 98109, 98110, 98111, 98112, 98114, 98115, 98116, 98117, 98118, 98119, 98121, 98122, 98124, 98125, 98126, 98129, 98131, 98132, 98133, 98134, 98136, 98138, 98144, 98145, 98146, 98148, 98151, 98154, 98155, 98158, 98160, 98161, 98164, 98166, 98168, 98170, 98171, 98174, 98177, 98178, 98181, 98184, 98185, 98188, 98190, 98191, 98195, 98198, 98199]"
   ]
  },
  {
   "cell_type": "code",
   "execution_count": null,
   "metadata": {},
   "outputs": [],
   "source": [
    "#dataframe for geoplotting\n",
    "df_geo = df.loc[:, [\"id\", \"lat\", \"long\", \"zipcode\"]]"
   ]
  },
  {
   "cell_type": "code",
   "execution_count": null,
   "metadata": {},
   "outputs": [],
   "source": [
    "#boolean category if house sale was in Seattle\n",
    "df_geo[\"in_city\"] = df[\"zipcode\"].isin(zip_seattle)"
   ]
  },
  {
   "cell_type": "code",
   "execution_count": null,
   "metadata": {},
   "outputs": [],
   "source": [
    "#geoplot of the datapoints\n",
    "fig = px.scatter_mapbox(df_geo, lat='lat', lon='long', title= 'Subselection of the data based on geography', color=\"in_city\",\n",
    "labels={\"in_city\":\"is the datapoint in Seattle\"}\n",
    ")\n",
    "fig.update_layout(mapbox_style=\"open-street-map\")                    \n",
    "fig.update_traces(marker={'size': 3})\n",
    "fig.update_layout(height=700, width= 750)\n",
    "fig.update_mapboxes(zoom=8.5)\n",
    "fig.show()"
   ]
  },
  {
   "attachments": {},
   "cell_type": "markdown",
   "metadata": {},
   "source": [
    "#### creating geographic subselection"
   ]
  },
  {
   "cell_type": "code",
   "execution_count": null,
   "metadata": {},
   "outputs": [],
   "source": [
    "#dataframe with sales in Seattle proper\n",
    "df_city = df[df[\"zipcode\"].isin(zip_seattle)]"
   ]
  },
  {
   "cell_type": "code",
   "execution_count": null,
   "metadata": {},
   "outputs": [],
   "source": [
    "df_city_saledate= df_city.groupby(\"date\", as_index=False).count()[[\"date\",\"id\"]]"
   ]
  },
  {
   "attachments": {},
   "cell_type": "markdown",
   "metadata": {},
   "source": [
    "##### check if distribution of sales over time is different in Seattle compared to entire dataset"
   ]
  },
  {
   "cell_type": "code",
   "execution_count": null,
   "metadata": {},
   "outputs": [],
   "source": [
    "fig = px.histogram(df_city, x=\"date\", nbins=58, title=\"distribution of house sales between May 2014 and May 2015\") #x=df_salesbydate[\"date\"], y=df_salesbydate[\"id\"])\n",
    "fig.show()"
   ]
  },
  {
   "cell_type": "code",
   "execution_count": null,
   "metadata": {},
   "outputs": [],
   "source": [
    "fig = px.scatter(df_city_saledate, x=\"date\", y=\"id\", title='Amount of Sales in Seattle May 2014 - May 2015', trendline=\"lowess\")\n",
    "fig.show()"
   ]
  },
  {
   "attachments": {},
   "cell_type": "markdown",
   "metadata": {},
   "source": [
    "observation: both the entire dataset and the geographic subselection seem to have the same distribution over time"
   ]
  },
  {
   "attachments": {},
   "cell_type": "markdown",
   "metadata": {},
   "source": [
    "#### Creating further subselection based on price"
   ]
  },
  {
   "cell_type": "code",
   "execution_count": null,
   "metadata": {},
   "outputs": [],
   "source": [
    "fig = px.histogram(df_city, x=\"price\", title=\"histogram of house prices in Seattle\", labels={\"price\":\"price in $\"} ) #x=df_salesbydate[\"date\"], y=df_salesbydate[\"id\"])\n",
    "fig.show()"
   ]
  },
  {
   "attachments": {},
   "cell_type": "markdown",
   "metadata": {},
   "source": [
    "our stakeholder has high end properties, lets look at only the properties in the 75th percentile:"
   ]
  },
  {
   "cell_type": "code",
   "execution_count": null,
   "metadata": {},
   "outputs": [],
   "source": [
    "df_city[\"price\"].quantile(q=0.75)"
   ]
  },
  {
   "cell_type": "code",
   "execution_count": null,
   "metadata": {},
   "outputs": [],
   "source": [
    "#dataframe with sales in seattle in the 75th percentile\n",
    "df_city_over75 = df_city[df_city[\"price\"] >= 630000]"
   ]
  },
  {
   "cell_type": "code",
   "execution_count": null,
   "metadata": {},
   "outputs": [],
   "source": [
    "df.shape"
   ]
  },
  {
   "cell_type": "code",
   "execution_count": null,
   "metadata": {},
   "outputs": [],
   "source": [
    "df_city.shape"
   ]
  },
  {
   "cell_type": "code",
   "execution_count": null,
   "metadata": {},
   "outputs": [],
   "source": [
    "df_city_over75.shape"
   ]
  },
  {
   "attachments": {},
   "cell_type": "markdown",
   "metadata": {},
   "source": [
    "we reduced our dataset from 21597 to 2255 data points! "
   ]
  },
  {
   "attachments": {},
   "cell_type": "markdown",
   "metadata": {},
   "source": [
    "#### creating new features in subselection"
   ]
  },
  {
   "attachments": {},
   "cell_type": "markdown",
   "metadata": {},
   "source": [
    "split up subselection based on the property having being renovated or not\n",
    "features:\n",
    "| column name  \t|  description          |\n",
    "|---\t        |---\t                |\n",
    "| build_to_renovation_time  \t    | time between construction and renovation in years  \t|\n",
    "| renovation_time         | time between renovation and sale in years   \t| \n",
    "| build_time         | time between construction and sale in years, if no renovation took place   \t| \n"
   ]
  },
  {
   "cell_type": "code",
   "execution_count": null,
   "metadata": {},
   "outputs": [],
   "source": [
    "# dataframe with only renovated houses and new features\n",
    "df_city_over75_renovated = df_city_over75[df_city_over75[\"yr_renovated\"] != 0]\n",
    "df_city_over75_renovated[\"build_to_renovation_time\"] = df_city_over75_renovated[\"yr_renovated\"] - df_city_over75_renovated[\"yr_built\"]\n",
    "df_city_over75_renovated[\"yr_renovated\"] = pd.to_datetime(df_city_over75_renovated[\"yr_renovated\"], format=\"%Y\")\n",
    "df_city_over75_renovated[\"yr_built\"] = pd.to_datetime(df_city_over75_renovated[\"yr_built\"], format=\"%Y\")"
   ]
  },
  {
   "cell_type": "code",
   "execution_count": null,
   "metadata": {},
   "outputs": [],
   "source": [
    "# new feature: renovation_time, transform it to years in integers for easier plotting\n",
    "df_city_over75_renovated[\"renovation_time\"] = df_city_over75_renovated[\"date\"] - df_city_over75_renovated[\"yr_renovated\"]\n",
    "df_city_over75_renovated[\"renovation_time\"] = df_city_over75_renovated[\"renovation_time\"].apply(lambda x: (x / np.timedelta64(1, 'D')))\n",
    "df_city_over75_renovated[\"renovation_time\"]=  df_city_over75_renovated[\"renovation_time\"].apply(lambda x: x/365)"
   ]
  },
  {
   "cell_type": "code",
   "execution_count": null,
   "metadata": {},
   "outputs": [],
   "source": [
    "# dataframe with only unrenovated houses\n",
    "df_city_over75_unrenovated = df_city_over75[df_city_over75[\"yr_renovated\"] == 0]\n",
    "df_city_over75_unrenovated[\"yr_built\"]  = pd.to_datetime(df_city_over75_unrenovated[\"yr_built\"], format=\"%Y\")"
   ]
  },
  {
   "cell_type": "code",
   "execution_count": null,
   "metadata": {},
   "outputs": [],
   "source": [
    "#new feature: build_time, transform it to years in integers for easier plotting\n",
    "df_city_over75_unrenovated[\"build_time\"] = df_city_over75_unrenovated[\"date\"] - df_city_over75_unrenovated[\"yr_built\"]\n",
    "df_city_over75_unrenovated[\"build_time\"] = df_city_over75_unrenovated[\"build_time\"].apply(lambda x: (x / np.timedelta64(1, 'D')))\n",
    "df_city_over75_unrenovated[\"build_time\"] = df_city_over75_unrenovated[\"build_time\"].apply(lambda x: x/365)"
   ]
  },
  {
   "attachments": {},
   "cell_type": "markdown",
   "metadata": {},
   "source": [
    "### plotting new features\n"
   ]
  },
  {
   "cell_type": "code",
   "execution_count": null,
   "metadata": {},
   "outputs": [],
   "source": [
    "df_city_over75_unrenovated[\"grade\"].unique()"
   ]
  },
  {
   "attachments": {},
   "cell_type": "markdown",
   "metadata": {},
   "source": [
    "#### price plotted against time since construction and grading in unrenovated houses"
   ]
  },
  {
   "cell_type": "code",
   "execution_count": null,
   "metadata": {},
   "outputs": [],
   "source": [
    "fig = px.scatter(x = df_city_over75_unrenovated[\"build_time\"],\n",
    "y = df_city_over75_unrenovated[\"price\"],\n",
    "color=df_city_over75_unrenovated[\"grade\"],\n",
    "title = \"price plotted against time since construction in unrenovated houses\",\n",
    "labels= {\"x\":\"time since construction in years\", \"y\":\"price in $\", \"color\":\"grading\"},\n",
    "color_continuous_scale = px.colors.sequential.RdBu,\n",
    ")\n",
    "fig.update_layout(legend_traceorder=\"reversed\")\n",
    "fig.show()"
   ]
  },
  {
   "attachments": {},
   "cell_type": "markdown",
   "metadata": {},
   "source": [
    "observation: houses with grading 9+ have higher prices  \n",
    "hypothesis: renovating houses to achieve higher grades should also increase sale prices"
   ]
  },
  {
   "attachments": {},
   "cell_type": "markdown",
   "metadata": {},
   "source": [
    "#### pice plotted against time since last renovation and grading"
   ]
  },
  {
   "cell_type": "code",
   "execution_count": null,
   "metadata": {},
   "outputs": [],
   "source": [
    "fig = px.scatter(x = df_city_over75_renovated[\"renovation_time\"],\n",
    "y = df_city_over75_renovated[\"price\"],\n",
    "color=df_city_over75_renovated[\"grade\"],\n",
    "title = \"price plotted against time since last renovation\",\n",
    "labels= {\"x\":\"time since last renovation in years\", \"y\":\"price in $\", \"color\":\"grading\"},\n",
    "color_continuous_scale = px.colors.sequential.RdBu,\n",
    ")\n",
    "fig.show()\n"
   ]
  },
  {
   "attachments": {},
   "cell_type": "markdown",
   "metadata": {},
   "source": [
    "observation: no clear increase in grading because of recent renovation\n",
    "hypothesis that renovation increase prices not proven"
   ]
  },
  {
   "attachments": {},
   "cell_type": "markdown",
   "metadata": {},
   "source": [
    "#### distribution of time between construction and renovation"
   ]
  },
  {
   "cell_type": "code",
   "execution_count": null,
   "metadata": {},
   "outputs": [],
   "source": [
    "fig = px.histogram(df_city_over75_renovated,\n",
    "x = \"build_to_renovation_time\",\n",
    "title=\"histogram of the time between construction and renovation\",\n",
    "labels= {\"build_to_renovation_time\":\"time between construction and renovation\", \"count\":\"number of renovations\"}\n",
    ")\n",
    "fig.show()"
   ]
  },
  {
   "attachments": {},
   "cell_type": "markdown",
   "metadata": {},
   "source": [
    "observation: most recent renovations first started at least 30 years after the time of construction"
   ]
  },
  {
   "attachments": {},
   "cell_type": "markdown",
   "metadata": {},
   "source": [
    "### conclusions\n",
    "- best time to sell is in spring to summer, try to sell property before november\n",
    "- higher grading is correlated with higher sale prices\n",
    "- BUT: recent renovation is not correlated with higher grading\n",
    "- no datapoints in the data set which can show direct influence of renovations on price"
   ]
  },
  {
   "attachments": {},
   "cell_type": "markdown",
   "metadata": {},
   "source": [
    "### to do\n",
    "find ways to normalize the influence of view, waterfront on the price to see a clearer influence of the renovation on the price"
   ]
  }
 ],
 "metadata": {
  "kernelspec": {
   "display_name": ".venv",
   "language": "python",
   "name": "python3"
  },
  "language_info": {
   "codemirror_mode": {
    "name": "ipython",
    "version": 3
   },
   "file_extension": ".py",
   "mimetype": "text/x-python",
   "name": "python",
   "nbconvert_exporter": "python",
   "pygments_lexer": "ipython3",
   "version": "3.9.8"
  },
  "orig_nbformat": 4,
  "vscode": {
   "interpreter": {
    "hash": "cf5409f64f34cddd817623f6f91977aa34dd261cf512cfb666e90582786ca36e"
   }
  }
 },
 "nbformat": 4,
 "nbformat_minor": 2
}
