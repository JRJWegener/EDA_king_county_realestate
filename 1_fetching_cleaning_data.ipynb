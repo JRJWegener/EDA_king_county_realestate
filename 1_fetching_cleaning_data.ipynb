{
 "cells": [
  {
   "attachments": {},
   "cell_type": "markdown",
   "metadata": {},
   "source": [
    "# Exploratory Data Analysis: King County (Washington) real estate sales May 2014-2015"
   ]
  },
  {
   "attachments": {},
   "cell_type": "markdown",
   "metadata": {},
   "source": [
    "### Connecting and retrieving data via SQLAlchemy"
   ]
  },
  {
   "cell_type": "code",
   "execution_count": null,
   "metadata": {},
   "outputs": [],
   "source": [
    "#import statements\n",
    "import os\n",
    "from dotenv import load_dotenv\n",
    "\n",
    "from sqlalchemy import create_engine\n",
    "\n",
    "import pandas as pd\n",
    "import numpy as np\n",
    "import missingno as msno\n",
    "#telling pandas to always show all columns\n",
    "pd.set_option('display.max_columns', None)\n"
   ]
  },
  {
   "cell_type": "code",
   "execution_count": null,
   "metadata": {},
   "outputs": [],
   "source": [
    "#read the database string from the .env\n",
    "load_dotenv()\n",
    "\n",
    "DB_STRING = os.getenv('DB_STRING')\n",
    "\n",
    "db = create_engine(DB_STRING)"
   ]
  },
  {
   "cell_type": "code",
   "execution_count": null,
   "metadata": {},
   "outputs": [],
   "source": [
    "#import the data to a pandas dataframe\n",
    "query_string = \"SET SCHEMA 'eda'; SELECT * FROM king_county_house_sales AS sales LEFT JOIN king_county_house_details AS details ON sales.house_id = details.id ORDER BY sales.id\"\n",
    "df_sqlalchemy = pd.read_sql(query_string, db)"
   ]
  },
  {
   "cell_type": "code",
   "execution_count": null,
   "metadata": {},
   "outputs": [],
   "source": [
    "df_sqlalchemy.shape"
   ]
  },
  {
   "cell_type": "code",
   "execution_count": null,
   "metadata": {},
   "outputs": [],
   "source": [
    "df_sqlalchemy.head()"
   ]
  },
  {
   "attachments": {},
   "cell_type": "markdown",
   "metadata": {},
   "source": [
    "### cleaning the data"
   ]
  },
  {
   "attachments": {},
   "cell_type": "markdown",
   "metadata": {},
   "source": [
    "#### creating a dataframe to work with"
   ]
  },
  {
   "cell_type": "code",
   "execution_count": null,
   "metadata": {},
   "outputs": [],
   "source": [
    "df_housesales = df_sqlalchemy.copy()"
   ]
  },
  {
   "cell_type": "code",
   "execution_count": null,
   "metadata": {},
   "outputs": [],
   "source": [
    "df_housesales.columns"
   ]
  },
  {
   "cell_type": "code",
   "execution_count": null,
   "metadata": {},
   "outputs": [],
   "source": [
    "df_housesales.head()"
   ]
  },
  {
   "cell_type": "code",
   "execution_count": null,
   "metadata": {},
   "outputs": [],
   "source": [
    "df_housesales.info(verbose=True, show_counts=True, max_cols=False)"
   ]
  },
  {
   "cell_type": "code",
   "execution_count": null,
   "metadata": {},
   "outputs": [],
   "source": [
    "#dropping duplicate house id\n",
    "\n",
    "column_list = df_housesales.columns.tolist()\n",
    "column_list[4] = \"old_id\"\n",
    "df_housesales.columns = column_list"
   ]
  },
  {
   "cell_type": "code",
   "execution_count": null,
   "metadata": {},
   "outputs": [],
   "source": [
    "df_housesales_cleaned = df_housesales.drop('old_id', axis=1)"
   ]
  },
  {
   "cell_type": "code",
   "execution_count": null,
   "metadata": {},
   "outputs": [],
   "source": [
    "#alternative way with drop_duplicates and transposing the dataframe:\n",
    "df_housesales.T.drop_duplicates().T"
   ]
  },
  {
   "cell_type": "code",
   "execution_count": null,
   "metadata": {},
   "outputs": [],
   "source": [
    "df_housesales_cleaned.head()"
   ]
  },
  {
   "cell_type": "code",
   "execution_count": null,
   "metadata": {},
   "outputs": [],
   "source": [
    "#turning column date to datetime format\n",
    "df_housesales_cleaned[\"date\"] = pd.to_datetime(df_housesales_cleaned[\"date\"])"
   ]
  },
  {
   "attachments": {},
   "cell_type": "markdown",
   "metadata": {},
   "source": [
    "#### filling in empty values"
   ]
  },
  {
   "cell_type": "code",
   "execution_count": null,
   "metadata": {},
   "outputs": [],
   "source": [
    "# number of missing values\n",
    "df_housesales_cleaned.isna().sum()"
   ]
  },
  {
   "cell_type": "code",
   "execution_count": null,
   "metadata": {},
   "outputs": [],
   "source": [
    "msno.bar(df_housesales_cleaned)"
   ]
  },
  {
   "cell_type": "code",
   "execution_count": null,
   "metadata": {},
   "outputs": [],
   "source": [
    "#missing values in waterfront:\n",
    "print(df_housesales_cleaned[\"waterfront\"].unique())\n",
    "#no value => no waterfront so fill with 0 and then turn column into boolean\n",
    "df_housesales_cleaned[\"waterfront\"].fillna(0)\n",
    "df_housesales_cleaned[\"waterfront\"] = df_housesales_cleaned[\"waterfront\"].astype('bool')\n",
    "print(df_housesales_cleaned[\"waterfront\"].unique())\n"
   ]
  },
  {
   "cell_type": "code",
   "execution_count": null,
   "metadata": {},
   "outputs": [],
   "source": [
    "#missing values in view:\n",
    "print(df_housesales_cleaned[\"view\"].unique())\n",
    "#no value -> no views, so fill with 0\n",
    "df_housesales_cleaned[\"view\"] = df_housesales_cleaned[\"view\"].fillna(0)\n",
    "print(df_housesales_cleaned[\"view\"].unique())\n"
   ]
  },
  {
   "cell_type": "code",
   "execution_count": null,
   "metadata": {},
   "outputs": [],
   "source": [
    "#missing values in basement, can be calculated by living area - above ground area\n",
    "\n",
    "df_housesales_cleaned[df_housesales_cleaned[\"sqft_basement\"].isna()][[\"sqft_living\", \"sqft_above\"]]"
   ]
  },
  {
   "cell_type": "code",
   "execution_count": null,
   "metadata": {},
   "outputs": [],
   "source": [
    "df_housesales_cleaned[\"sqft_basement\"].fillna(df_housesales_cleaned.sqft_living - df_housesales_cleaned.sqft_above, inplace=True)"
   ]
  },
  {
   "cell_type": "code",
   "execution_count": null,
   "metadata": {},
   "outputs": [],
   "source": [
    "#check if no funky math happened:\n",
    "df_housesales_cleaned[df_housesales_cleaned[\"sqft_basement\"] < 0]"
   ]
  },
  {
   "cell_type": "code",
   "execution_count": null,
   "metadata": {},
   "outputs": [],
   "source": [
    "df_housesales_cleaned2 = df_housesales_cleaned.copy()"
   ]
  },
  {
   "cell_type": "code",
   "execution_count": null,
   "metadata": {},
   "outputs": [],
   "source": [
    "df_housesales_cleaned2[\"yr_renovated\"].unique()"
   ]
  },
  {
   "cell_type": "code",
   "execution_count": null,
   "metadata": {},
   "outputs": [],
   "source": [
    "df_housesales_cleaned2[\"yr_renovated\"] = df_housesales_cleaned2[\"yr_renovated\"].fillna(0)\n"
   ]
  },
  {
   "cell_type": "code",
   "execution_count": null,
   "metadata": {},
   "outputs": [],
   "source": [
    "df_housesales_cleaned2[\"yr_renovated\"].unique()"
   ]
  },
  {
   "cell_type": "code",
   "execution_count": null,
   "metadata": {},
   "outputs": [],
   "source": [
    "df_housesales_cleaned2[\"yr_renovated\"] = df_housesales_cleaned2[\"yr_renovated\"].apply(lambda x: x/10).astype(int)"
   ]
  },
  {
   "cell_type": "code",
   "execution_count": null,
   "metadata": {},
   "outputs": [],
   "source": [
    "#changing build year to date format\n",
    "df_housesales_cleaned2[\"yr_built\"] = pd.to_datetime(df_housesales_cleaned2[\"yr_built\"])"
   ]
  },
  {
   "cell_type": "code",
   "execution_count": null,
   "metadata": {},
   "outputs": [],
   "source": [
    "df_housesales_cleaned2[\"yr_built\"].unique() "
   ]
  },
  {
   "cell_type": "code",
   "execution_count": null,
   "metadata": {},
   "outputs": [],
   "source": [
    "df_housesales_cleaned2.dtypes"
   ]
  },
  {
   "attachments": {},
   "cell_type": "markdown",
   "metadata": {},
   "source": [
    "### Saving the cleaned dataframe to a backup (pickle)"
   ]
  },
  {
   "cell_type": "code",
   "execution_count": null,
   "metadata": {},
   "outputs": [],
   "source": [
    "df_housesales_cleaned2.to_pickle(\"data/dataframe_housesales.pkl\")"
   ]
  }
 ],
 "metadata": {
  "kernelspec": {
   "display_name": ".venv",
   "language": "python",
   "name": "python3"
  },
  "language_info": {
   "codemirror_mode": {
    "name": "ipython",
    "version": 3
   },
   "file_extension": ".py",
   "mimetype": "text/x-python",
   "name": "python",
   "nbconvert_exporter": "python",
   "pygments_lexer": "ipython3",
   "version": "3.9.8 (main, Jan  9 2023, 15:26:45) \n[Clang 14.0.0 (clang-1400.0.29.202)]"
  },
  "orig_nbformat": 4,
  "vscode": {
   "interpreter": {
    "hash": "cf5409f64f34cddd817623f6f91977aa34dd261cf512cfb666e90582786ca36e"
   }
  }
 },
 "nbformat": 4,
 "nbformat_minor": 2
}
